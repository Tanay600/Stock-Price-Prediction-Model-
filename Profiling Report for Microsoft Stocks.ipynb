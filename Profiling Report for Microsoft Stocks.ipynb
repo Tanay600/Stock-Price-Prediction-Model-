{
 "cells": [
  {
   "cell_type": "code",
   "execution_count": 1,
   "id": "c969c379",
   "metadata": {},
   "outputs": [],
   "source": [
    "import numpy as np\n",
    "import pandas as pd\n",
    "from pandas_profiling import ProfileReport"
   ]
  },
  {
   "cell_type": "code",
   "execution_count": 3,
   "id": "1a2fe908",
   "metadata": {},
   "outputs": [],
   "source": [
    "df = pd.read_csv(\"MSTF.csv\")"
   ]
  },
  {
   "cell_type": "code",
   "execution_count": 4,
   "id": "f28d7685",
   "metadata": {},
   "outputs": [
    {
     "data": {
      "text/html": [
       "<div>\n",
       "<style scoped>\n",
       "    .dataframe tbody tr th:only-of-type {\n",
       "        vertical-align: middle;\n",
       "    }\n",
       "\n",
       "    .dataframe tbody tr th {\n",
       "        vertical-align: top;\n",
       "    }\n",
       "\n",
       "    .dataframe thead th {\n",
       "        text-align: right;\n",
       "    }\n",
       "</style>\n",
       "<table border=\"1\" class=\"dataframe\">\n",
       "  <thead>\n",
       "    <tr style=\"text-align: right;\">\n",
       "      <th></th>\n",
       "      <th>symbol</th>\n",
       "      <th>date</th>\n",
       "      <th>close</th>\n",
       "      <th>high</th>\n",
       "      <th>low</th>\n",
       "      <th>open</th>\n",
       "      <th>volume</th>\n",
       "      <th>adjClose</th>\n",
       "      <th>adjHigh</th>\n",
       "      <th>adjLow</th>\n",
       "      <th>adjOpen</th>\n",
       "      <th>adjVolume</th>\n",
       "      <th>divCash</th>\n",
       "      <th>splitFactor</th>\n",
       "    </tr>\n",
       "  </thead>\n",
       "  <tbody>\n",
       "    <tr>\n",
       "      <th>0</th>\n",
       "      <td>MSFT</td>\n",
       "      <td>2018-06-18 00:00:00+00:00</td>\n",
       "      <td>100.86</td>\n",
       "      <td>101.1100</td>\n",
       "      <td>99.42</td>\n",
       "      <td>100.010</td>\n",
       "      <td>23586037</td>\n",
       "      <td>95.363958</td>\n",
       "      <td>95.600336</td>\n",
       "      <td>94.002427</td>\n",
       "      <td>94.560276</td>\n",
       "      <td>23586037</td>\n",
       "      <td>0.0</td>\n",
       "      <td>1.0</td>\n",
       "    </tr>\n",
       "    <tr>\n",
       "      <th>1</th>\n",
       "      <td>MSFT</td>\n",
       "      <td>2018-06-19 00:00:00+00:00</td>\n",
       "      <td>100.86</td>\n",
       "      <td>101.0000</td>\n",
       "      <td>99.50</td>\n",
       "      <td>99.650</td>\n",
       "      <td>28653087</td>\n",
       "      <td>95.363958</td>\n",
       "      <td>95.496330</td>\n",
       "      <td>94.078067</td>\n",
       "      <td>94.219894</td>\n",
       "      <td>28653087</td>\n",
       "      <td>0.0</td>\n",
       "      <td>1.0</td>\n",
       "    </tr>\n",
       "    <tr>\n",
       "      <th>2</th>\n",
       "      <td>MSFT</td>\n",
       "      <td>2018-06-20 00:00:00+00:00</td>\n",
       "      <td>101.87</td>\n",
       "      <td>102.5200</td>\n",
       "      <td>101.12</td>\n",
       "      <td>101.370</td>\n",
       "      <td>26180792</td>\n",
       "      <td>96.318922</td>\n",
       "      <td>96.933502</td>\n",
       "      <td>95.609791</td>\n",
       "      <td>95.846168</td>\n",
       "      <td>26180792</td>\n",
       "      <td>0.0</td>\n",
       "      <td>1.0</td>\n",
       "    </tr>\n",
       "    <tr>\n",
       "      <th>3</th>\n",
       "      <td>MSFT</td>\n",
       "      <td>2018-06-21 00:00:00+00:00</td>\n",
       "      <td>101.14</td>\n",
       "      <td>102.4600</td>\n",
       "      <td>100.88</td>\n",
       "      <td>102.080</td>\n",
       "      <td>23198188</td>\n",
       "      <td>95.628701</td>\n",
       "      <td>96.876772</td>\n",
       "      <td>95.382869</td>\n",
       "      <td>96.517478</td>\n",
       "      <td>23198188</td>\n",
       "      <td>0.0</td>\n",
       "      <td>1.0</td>\n",
       "    </tr>\n",
       "    <tr>\n",
       "      <th>4</th>\n",
       "      <td>MSFT</td>\n",
       "      <td>2018-06-22 00:00:00+00:00</td>\n",
       "      <td>100.41</td>\n",
       "      <td>100.7700</td>\n",
       "      <td>99.63</td>\n",
       "      <td>100.410</td>\n",
       "      <td>38923105</td>\n",
       "      <td>94.938480</td>\n",
       "      <td>95.278863</td>\n",
       "      <td>94.200983</td>\n",
       "      <td>94.938480</td>\n",
       "      <td>38923105</td>\n",
       "      <td>0.0</td>\n",
       "      <td>1.0</td>\n",
       "    </tr>\n",
       "    <tr>\n",
       "      <th>...</th>\n",
       "      <td>...</td>\n",
       "      <td>...</td>\n",
       "      <td>...</td>\n",
       "      <td>...</td>\n",
       "      <td>...</td>\n",
       "      <td>...</td>\n",
       "      <td>...</td>\n",
       "      <td>...</td>\n",
       "      <td>...</td>\n",
       "      <td>...</td>\n",
       "      <td>...</td>\n",
       "      <td>...</td>\n",
       "      <td>...</td>\n",
       "      <td>...</td>\n",
       "    </tr>\n",
       "    <tr>\n",
       "      <th>1252</th>\n",
       "      <td>MSFT</td>\n",
       "      <td>2023-06-08 00:00:00+00:00</td>\n",
       "      <td>325.26</td>\n",
       "      <td>326.6400</td>\n",
       "      <td>323.35</td>\n",
       "      <td>323.935</td>\n",
       "      <td>23277708</td>\n",
       "      <td>325.260000</td>\n",
       "      <td>326.640000</td>\n",
       "      <td>323.350000</td>\n",
       "      <td>323.935000</td>\n",
       "      <td>23277708</td>\n",
       "      <td>0.0</td>\n",
       "      <td>1.0</td>\n",
       "    </tr>\n",
       "    <tr>\n",
       "      <th>1253</th>\n",
       "      <td>MSFT</td>\n",
       "      <td>2023-06-09 00:00:00+00:00</td>\n",
       "      <td>326.79</td>\n",
       "      <td>329.9900</td>\n",
       "      <td>324.41</td>\n",
       "      <td>324.990</td>\n",
       "      <td>22528950</td>\n",
       "      <td>326.790000</td>\n",
       "      <td>329.990000</td>\n",
       "      <td>324.410000</td>\n",
       "      <td>324.990000</td>\n",
       "      <td>22528950</td>\n",
       "      <td>0.0</td>\n",
       "      <td>1.0</td>\n",
       "    </tr>\n",
       "    <tr>\n",
       "      <th>1254</th>\n",
       "      <td>MSFT</td>\n",
       "      <td>2023-06-12 00:00:00+00:00</td>\n",
       "      <td>331.85</td>\n",
       "      <td>332.0999</td>\n",
       "      <td>325.16</td>\n",
       "      <td>328.580</td>\n",
       "      <td>24306753</td>\n",
       "      <td>331.850000</td>\n",
       "      <td>332.099900</td>\n",
       "      <td>325.160000</td>\n",
       "      <td>328.580000</td>\n",
       "      <td>24306753</td>\n",
       "      <td>0.0</td>\n",
       "      <td>1.0</td>\n",
       "    </tr>\n",
       "    <tr>\n",
       "      <th>1255</th>\n",
       "      <td>MSFT</td>\n",
       "      <td>2023-06-13 00:00:00+00:00</td>\n",
       "      <td>334.29</td>\n",
       "      <td>336.9800</td>\n",
       "      <td>330.39</td>\n",
       "      <td>334.465</td>\n",
       "      <td>22951279</td>\n",
       "      <td>334.290000</td>\n",
       "      <td>336.980000</td>\n",
       "      <td>330.390000</td>\n",
       "      <td>334.465000</td>\n",
       "      <td>22951279</td>\n",
       "      <td>0.0</td>\n",
       "      <td>1.0</td>\n",
       "    </tr>\n",
       "    <tr>\n",
       "      <th>1256</th>\n",
       "      <td>MSFT</td>\n",
       "      <td>2023-06-14 00:00:00+00:00</td>\n",
       "      <td>337.34</td>\n",
       "      <td>339.0400</td>\n",
       "      <td>332.81</td>\n",
       "      <td>334.340</td>\n",
       "      <td>26003791</td>\n",
       "      <td>337.340000</td>\n",
       "      <td>339.040000</td>\n",
       "      <td>332.810000</td>\n",
       "      <td>334.340000</td>\n",
       "      <td>26003791</td>\n",
       "      <td>0.0</td>\n",
       "      <td>1.0</td>\n",
       "    </tr>\n",
       "  </tbody>\n",
       "</table>\n",
       "<p>1257 rows × 14 columns</p>\n",
       "</div>"
      ],
      "text/plain": [
       "     symbol                       date   close      high     low     open  \\\n",
       "0      MSFT  2018-06-18 00:00:00+00:00  100.86  101.1100   99.42  100.010   \n",
       "1      MSFT  2018-06-19 00:00:00+00:00  100.86  101.0000   99.50   99.650   \n",
       "2      MSFT  2018-06-20 00:00:00+00:00  101.87  102.5200  101.12  101.370   \n",
       "3      MSFT  2018-06-21 00:00:00+00:00  101.14  102.4600  100.88  102.080   \n",
       "4      MSFT  2018-06-22 00:00:00+00:00  100.41  100.7700   99.63  100.410   \n",
       "...     ...                        ...     ...       ...     ...      ...   \n",
       "1252   MSFT  2023-06-08 00:00:00+00:00  325.26  326.6400  323.35  323.935   \n",
       "1253   MSFT  2023-06-09 00:00:00+00:00  326.79  329.9900  324.41  324.990   \n",
       "1254   MSFT  2023-06-12 00:00:00+00:00  331.85  332.0999  325.16  328.580   \n",
       "1255   MSFT  2023-06-13 00:00:00+00:00  334.29  336.9800  330.39  334.465   \n",
       "1256   MSFT  2023-06-14 00:00:00+00:00  337.34  339.0400  332.81  334.340   \n",
       "\n",
       "        volume    adjClose     adjHigh      adjLow     adjOpen  adjVolume  \\\n",
       "0     23586037   95.363958   95.600336   94.002427   94.560276   23586037   \n",
       "1     28653087   95.363958   95.496330   94.078067   94.219894   28653087   \n",
       "2     26180792   96.318922   96.933502   95.609791   95.846168   26180792   \n",
       "3     23198188   95.628701   96.876772   95.382869   96.517478   23198188   \n",
       "4     38923105   94.938480   95.278863   94.200983   94.938480   38923105   \n",
       "...        ...         ...         ...         ...         ...        ...   \n",
       "1252  23277708  325.260000  326.640000  323.350000  323.935000   23277708   \n",
       "1253  22528950  326.790000  329.990000  324.410000  324.990000   22528950   \n",
       "1254  24306753  331.850000  332.099900  325.160000  328.580000   24306753   \n",
       "1255  22951279  334.290000  336.980000  330.390000  334.465000   22951279   \n",
       "1256  26003791  337.340000  339.040000  332.810000  334.340000   26003791   \n",
       "\n",
       "      divCash  splitFactor  \n",
       "0         0.0          1.0  \n",
       "1         0.0          1.0  \n",
       "2         0.0          1.0  \n",
       "3         0.0          1.0  \n",
       "4         0.0          1.0  \n",
       "...       ...          ...  \n",
       "1252      0.0          1.0  \n",
       "1253      0.0          1.0  \n",
       "1254      0.0          1.0  \n",
       "1255      0.0          1.0  \n",
       "1256      0.0          1.0  \n",
       "\n",
       "[1257 rows x 14 columns]"
      ]
     },
     "execution_count": 4,
     "metadata": {},
     "output_type": "execute_result"
    }
   ],
   "source": [
    "df"
   ]
  },
  {
   "cell_type": "code",
   "execution_count": 5,
   "id": "cbe7122f",
   "metadata": {},
   "outputs": [],
   "source": [
    "profile = ProfileReport(df , minimal=True)"
   ]
  },
  {
   "cell_type": "code",
   "execution_count": 6,
   "id": "90cbbf1c",
   "metadata": {},
   "outputs": [
    {
     "data": {
      "application/vnd.jupyter.widget-view+json": {
       "model_id": "3776ee0461304c65b58827583aae0398",
       "version_major": 2,
       "version_minor": 0
      },
      "text/plain": [
       "Summarize dataset:   0%|          | 0/5 [00:00<?, ?it/s]"
      ]
     },
     "metadata": {},
     "output_type": "display_data"
    },
    {
     "name": "stderr",
     "output_type": "stream",
     "text": [
      "C:\\Users\\Tanay's PC\\AppData\\Local\\Programs\\Python\\Python310\\lib\\site-packages\\multimethod\\__init__.py:315: FutureWarning: iteritems is deprecated and will be removed in a future version. Use .items instead.\n",
      "  return func(*args, **kwargs)\n"
     ]
    },
    {
     "data": {
      "application/vnd.jupyter.widget-view+json": {
       "model_id": "e51c700b5281465fa0fbdaff18fbb260",
       "version_major": 2,
       "version_minor": 0
      },
      "text/plain": [
       "Generate report structure:   0%|          | 0/1 [00:00<?, ?it/s]"
      ]
     },
     "metadata": {},
     "output_type": "display_data"
    },
    {
     "data": {
      "application/vnd.jupyter.widget-view+json": {
       "model_id": "56998912c3bf4ca8beeaaee31486803f",
       "version_major": 2,
       "version_minor": 0
      },
      "text/plain": [
       "Render HTML:   0%|          | 0/1 [00:00<?, ?it/s]"
      ]
     },
     "metadata": {},
     "output_type": "display_data"
    },
    {
     "name": "stderr",
     "output_type": "stream",
     "text": [
      "C:\\Users\\Tanay's PC\\AppData\\Local\\Programs\\Python\\Python310\\lib\\site-packages\\pandas_profiling\\profile_report.py:282: UserWarning: Extension .csv not supported. For now we assume .html was intended. To remove this warning, please use .html or .json.\n",
      "  warnings.warn(\n"
     ]
    },
    {
     "data": {
      "application/vnd.jupyter.widget-view+json": {
       "model_id": "93cbfa83a2bc4168baf7c78cdbc191bb",
       "version_major": 2,
       "version_minor": 0
      },
      "text/plain": [
       "Export report to file:   0%|          | 0/1 [00:00<?, ?it/s]"
      ]
     },
     "metadata": {},
     "output_type": "display_data"
    }
   ],
   "source": [
    "profile.to_file(output_file=\"MSTF.csv\") "
   ]
  },
  {
   "cell_type": "code",
   "execution_count": null,
   "id": "ec41528a",
   "metadata": {},
   "outputs": [],
   "source": []
  }
 ],
 "metadata": {
  "kernelspec": {
   "display_name": "Python 3 (ipykernel)",
   "language": "python",
   "name": "python3"
  },
  "language_info": {
   "codemirror_mode": {
    "name": "ipython",
    "version": 3
   },
   "file_extension": ".py",
   "mimetype": "text/x-python",
   "name": "python",
   "nbconvert_exporter": "python",
   "pygments_lexer": "ipython3",
   "version": "3.10.7"
  }
 },
 "nbformat": 4,
 "nbformat_minor": 5
}
